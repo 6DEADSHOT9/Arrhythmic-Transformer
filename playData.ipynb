{
 "cells": [
  {
   "cell_type": "code",
   "execution_count": 1,
   "metadata": {},
   "outputs": [],
   "source": [
    "import wfdb\n",
    "import numpy as np\n",
    "import matplotlib.pyplot as plt\n",
    "import os\n",
    "import pandas as pd\n",
    "import h5py\n",
    "import gc"
   ]
  },
  {
   "cell_type": "code",
   "execution_count": 2,
   "metadata": {},
   "outputs": [
    {
     "name": "stdout",
     "output_type": "stream",
     "text": [
      "Data/CODE-15% a large scale annotated dataset of 12-lead ECGs/Finalized Data/AF_traced\n"
     ]
    }
   ],
   "source": [
    "code_path = r'Data/CODE-15% a large scale annotated dataset of 12-lead ECGs/'\n",
    "print(code_path + 'Finalized Data/' + 'AF_traced')"
   ]
  },
  {
   "cell_type": "code",
   "execution_count": 3,
   "metadata": {},
   "outputs": [
    {
     "data": {
      "text/html": [
       "<div>\n",
       "<style scoped>\n",
       "    .dataframe tbody tr th:only-of-type {\n",
       "        vertical-align: middle;\n",
       "    }\n",
       "\n",
       "    .dataframe tbody tr th {\n",
       "        vertical-align: top;\n",
       "    }\n",
       "\n",
       "    .dataframe thead th {\n",
       "        text-align: right;\n",
       "    }\n",
       "</style>\n",
       "<table border=\"1\" class=\"dataframe\">\n",
       "  <thead>\n",
       "    <tr style=\"text-align: right;\">\n",
       "      <th></th>\n",
       "      <th>exam_id</th>\n",
       "      <th>age</th>\n",
       "      <th>is_male</th>\n",
       "      <th>nn_predicted_age</th>\n",
       "      <th>1dAVb</th>\n",
       "      <th>RBBB</th>\n",
       "      <th>LBBB</th>\n",
       "      <th>SB</th>\n",
       "      <th>ST</th>\n",
       "      <th>AF</th>\n",
       "      <th>patient_id</th>\n",
       "      <th>death</th>\n",
       "      <th>timey</th>\n",
       "      <th>normal_ecg</th>\n",
       "      <th>trace_file</th>\n",
       "    </tr>\n",
       "  </thead>\n",
       "  <tbody>\n",
       "    <tr>\n",
       "      <th>0</th>\n",
       "      <td>1169160</td>\n",
       "      <td>38</td>\n",
       "      <td>True</td>\n",
       "      <td>40.160484</td>\n",
       "      <td>False</td>\n",
       "      <td>False</td>\n",
       "      <td>False</td>\n",
       "      <td>False</td>\n",
       "      <td>False</td>\n",
       "      <td>False</td>\n",
       "      <td>523632</td>\n",
       "      <td>False</td>\n",
       "      <td>2.098628</td>\n",
       "      <td>True</td>\n",
       "      <td>exams_part13.hdf5</td>\n",
       "    </tr>\n",
       "    <tr>\n",
       "      <th>1</th>\n",
       "      <td>2873686</td>\n",
       "      <td>73</td>\n",
       "      <td>True</td>\n",
       "      <td>67.059440</td>\n",
       "      <td>False</td>\n",
       "      <td>False</td>\n",
       "      <td>False</td>\n",
       "      <td>False</td>\n",
       "      <td>False</td>\n",
       "      <td>False</td>\n",
       "      <td>1724173</td>\n",
       "      <td>False</td>\n",
       "      <td>6.657529</td>\n",
       "      <td>False</td>\n",
       "      <td>exams_part13.hdf5</td>\n",
       "    </tr>\n",
       "    <tr>\n",
       "      <th>2</th>\n",
       "      <td>168405</td>\n",
       "      <td>67</td>\n",
       "      <td>True</td>\n",
       "      <td>79.621740</td>\n",
       "      <td>False</td>\n",
       "      <td>False</td>\n",
       "      <td>False</td>\n",
       "      <td>False</td>\n",
       "      <td>False</td>\n",
       "      <td>True</td>\n",
       "      <td>51421</td>\n",
       "      <td>False</td>\n",
       "      <td>4.282188</td>\n",
       "      <td>False</td>\n",
       "      <td>exams_part13.hdf5</td>\n",
       "    </tr>\n",
       "    <tr>\n",
       "      <th>3</th>\n",
       "      <td>271011</td>\n",
       "      <td>41</td>\n",
       "      <td>True</td>\n",
       "      <td>69.750260</td>\n",
       "      <td>False</td>\n",
       "      <td>False</td>\n",
       "      <td>False</td>\n",
       "      <td>False</td>\n",
       "      <td>False</td>\n",
       "      <td>False</td>\n",
       "      <td>1737282</td>\n",
       "      <td>False</td>\n",
       "      <td>4.038353</td>\n",
       "      <td>True</td>\n",
       "      <td>exams_part13.hdf5</td>\n",
       "    </tr>\n",
       "    <tr>\n",
       "      <th>4</th>\n",
       "      <td>384368</td>\n",
       "      <td>73</td>\n",
       "      <td>True</td>\n",
       "      <td>78.873460</td>\n",
       "      <td>False</td>\n",
       "      <td>False</td>\n",
       "      <td>False</td>\n",
       "      <td>False</td>\n",
       "      <td>False</td>\n",
       "      <td>False</td>\n",
       "      <td>331652</td>\n",
       "      <td>False</td>\n",
       "      <td>3.786298</td>\n",
       "      <td>False</td>\n",
       "      <td>exams_part13.hdf5</td>\n",
       "    </tr>\n",
       "  </tbody>\n",
       "</table>\n",
       "</div>"
      ],
      "text/plain": [
       "   exam_id  age  is_male  nn_predicted_age  1dAVb   RBBB   LBBB     SB     ST  \\\n",
       "0  1169160   38     True         40.160484  False  False  False  False  False   \n",
       "1  2873686   73     True         67.059440  False  False  False  False  False   \n",
       "2   168405   67     True         79.621740  False  False  False  False  False   \n",
       "3   271011   41     True         69.750260  False  False  False  False  False   \n",
       "4   384368   73     True         78.873460  False  False  False  False  False   \n",
       "\n",
       "      AF  patient_id  death     timey  normal_ecg         trace_file  \n",
       "0  False      523632  False  2.098628        True  exams_part13.hdf5  \n",
       "1  False     1724173  False  6.657529       False  exams_part13.hdf5  \n",
       "2   True       51421  False  4.282188       False  exams_part13.hdf5  \n",
       "3  False     1737282  False  4.038353        True  exams_part13.hdf5  \n",
       "4  False      331652  False  3.786298       False  exams_part13.hdf5  "
      ]
     },
     "execution_count": 3,
     "metadata": {},
     "output_type": "execute_result"
    }
   ],
   "source": [
    "# display head of csv file\n",
    "df = pd.read_csv(code_path + 'exams.csv')\n",
    "df.head()"
   ]
  },
  {
   "cell_type": "code",
   "execution_count": 4,
   "metadata": {},
   "outputs": [
    {
     "name": "stdout",
     "output_type": "stream",
     "text": [
      "7033 5716 9672 6026 5605 7584 345779 304143\n",
      "AF:  7033 \n",
      "1dAVb:  5716 \n",
      "RBBB:  9672 \n",
      "LBBB:  6026 \n",
      "SB:  5605 \n",
      "ST:  7584 \n",
      "Total:  345779 \n",
      "Other:  304143\n",
      "None:  308004\n"
     ]
    }
   ],
   "source": [
    "#print exam id where AF is TRUE\n",
    "af = df[df['AF'] == True]['exam_id']\n",
    "davb = df[df['1dAVb'] == True]['exam_id']\n",
    "rbbb = df[df['RBBB'] == True]['exam_id']\n",
    "lbbb = df[df['LBBB'] == True]['exam_id']\n",
    "sb = df[df['SB'] == True]['exam_id']\n",
    "st = df[df['ST'] == True]['exam_id']\n",
    "print(len(af), len(davb), len(rbbb), len(lbbb),len(sb),len(st), len(df),len(df)-(len(af) + len(davb) + len(rbbb) + len(sb) + len(st) + len(lbbb)))\n",
    "# print with proper text formatting\n",
    "print('AF: ', len(af), '\\n1dAVb: ', len(davb), '\\nRBBB: ', len(rbbb), '\\nLBBB: ', len(lbbb), '\\nSB: ', len(sb), '\\nST: ', len(st), '\\nTotal: ', len(df), '\\nOther: ', len(df)-(len(af) + len(davb) + len(rbbb) + len(sb) + len(st) + len(lbbb)))\n",
    "#print exam id where all is false\n",
    "none = df[(df['AF'] == False) & (df['1dAVb'] == False) & (df['RBBB'] == False) & (df['LBBB'] == False) & (df['SB'] == False) & (df['ST'] == False)]\n",
    "print('None: ', len(none))"
   ]
  },
  {
   "cell_type": "code",
   "execution_count": 5,
   "metadata": {},
   "outputs": [],
   "source": [
    "af_trace = df[df['AF'] == True]['trace_file']\n",
    "#combine af and af_trace\n",
    "af_with_trace = pd.concat([af, af_trace], axis=1)"
   ]
  },
  {
   "cell_type": "code",
   "execution_count": 6,
   "metadata": {},
   "outputs": [
    {
     "name": "stdout",
     "output_type": "stream",
     "text": [
      "    exam_id         trace_file\n",
      "2    168405  exams_part13.hdf5\n",
      "9    132538  exams_part13.hdf5\n",
      "57  2821208  exams_part13.hdf5\n",
      "74   669209  exams_part14.hdf5\n",
      "77   360491  exams_part14.hdf5\n",
      "exams_part13.hdf5\n",
      "exams_part13.hdf5\n",
      "exams_part13.hdf5\n",
      "exams_part14.hdf5\n",
      "exams_part14.hdf5\n",
      "exams_part13.hdf5\n",
      "exams_part10.hdf5\n",
      "exams_part14.hdf5\n",
      "exams_part13.hdf5\n",
      "exams_part0.hdf5\n"
     ]
    }
   ],
   "source": [
    "print(af_with_trace.head())\n",
    "for i in range(10):\n",
    "\n",
    "    print(af_with_trace.iloc[i,1])"
   ]
  },
  {
   "cell_type": "code",
   "execution_count": 7,
   "metadata": {},
   "outputs": [],
   "source": [
    "def normalize(x):\n",
    "    x = (x - x.min()) / (x.max() - x.min())\n",
    "    return x"
   ]
  },
  {
   "cell_type": "code",
   "execution_count": null,
   "metadata": {},
   "outputs": [],
   "source": [
    "# load the hdf5 file from the first column of the af_with_trace dataframe\n",
    "trace_dataset = []\n",
    "exam_id_dataset = []\n",
    "for i in range(len(af_with_trace)):\n",
    "    temp_str = af_with_trace.iloc[i,1].split('.')[0]+'/'\n",
    "    # print(temp_str)\n",
    "    file = h5py.File(code_path + temp_str + af_with_trace.iloc[i,1], 'r')\n",
    "    # print(file.keys(),file.name)\n",
    "    #get tracing from opened hdf5 where exam_id is equal to the first column of af_with_trace \n",
    "    temp_index = np.where(file['exam_id'][:] ==  af_with_trace.iloc[i,0])[0][0]\n",
    "    print(temp_index,end = ' ')\n",
    "    exam_id = file['exam_id'][temp_index]\n",
    "    exam_id_dataset.append(exam_id)\n",
    "    trace = file['tracings'][temp_index]\n",
    "    trace_dataset.append(normalize(trace))\n",
    "    print(trace.shape,end = '\\n')\n",
    "    # plt.figure(figsize=(20,7))\n",
    "    # for j in range(0,12):\n",
    "    #     plt.subplot(12,1,j+1)\n",
    "    #     plt.plot(np.array(trace_dataset[i][:,j]))\n",
    "    file.close()\n",
    "    # write data to a new hdf5 file which is previously created\n",
    "    "
   ]
  },
  {
   "cell_type": "code",
   "execution_count": 9,
   "metadata": {},
   "outputs": [
    {
     "name": "stdout",
     "output_type": "stream",
     "text": [
      "(7033, 4096, 12) (7033,)\n"
     ]
    }
   ],
   "source": [
    "trace_dataset = np.array(trace_dataset)\n",
    "exam_id_dataset = np.array(exam_id_dataset)\n",
    "print(trace_dataset.shape,exam_id_dataset.shape)\n",
    "# for i in range(len(af_with_trace)):\n",
    "os.mkdir(code_path + 'Finalized Data/')\n",
    "with h5py.File(code_path + 'Finalized Data/' + 'AF_traced', 'a') as file:\n",
    "    file.create_dataset('exam_id', data=exam_id_dataset)\n",
    "    file.create_dataset('tracings', data=trace_dataset)\n",
    "    file.close()\n",
    "del trace_dataset, exam_id_dataset\n",
    "gc.collect()\n",
    "#create readme\n",
    "readme = open(code_path + 'Finalized Data/' + 'af_dataset_readme.txt','w')\n",
    "readme.write('This is a dataset of 12-lead ECGs with atrial fibrillation. \\n') \n",
    "readme.write('The data is from the CODE-15% dataset. \\n')\n",
    "readme.write('The data is normalized to a range of 0 to 1. \\n')\n",
    "readme.write('The data is stored in a hdf5 file. \\n')\n",
    "readme.write('The data is stored in two datasets: exam_id and tracings. \\n')\n",
    "readme.write('The exam_id dataset is a 1D array of exam_id. \\n')\n",
    "readme.write('The tracings dataset is a 3D array of tracings. \\n')\n",
    "readme.close()"
   ]
  }
 ],
 "metadata": {
  "kernelspec": {
   "display_name": "Arrhythmia_env",
   "language": "python",
   "name": "python3"
  },
  "language_info": {
   "codemirror_mode": {
    "name": "ipython",
    "version": 3
   },
   "file_extension": ".py",
   "mimetype": "text/x-python",
   "name": "python",
   "nbconvert_exporter": "python",
   "pygments_lexer": "ipython3",
   "version": "3.10.5"
  },
  "orig_nbformat": 4
 },
 "nbformat": 4,
 "nbformat_minor": 2
}
