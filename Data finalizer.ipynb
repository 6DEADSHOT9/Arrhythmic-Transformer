{
 "cells": [
  {
   "cell_type": "code",
   "execution_count": null,
   "metadata": {},
   "outputs": [],
   "source": [
    "import numpy as np\n",
    "import pandas as pd\n",
    "import matplotlib.pyplot as plt\n",
    "import wfdb\n",
    "import os\n",
    "import neurokit2 as nk2\n",
    "import h5py\n",
    "import biosppy\n",
    "import transformations as tfm\n",
    "from scipy import signal\n",
    "\n",
    "import warnings\n",
    "warnings.filterwarnings(\"error\")"
   ]
  },
  {
   "cell_type": "code",
   "execution_count": null,
   "metadata": {},
   "outputs": [],
   "source": [
    "#  Loading paths\n",
    "path_norm = r'./Converted data/Normal sinus rhythm/Normal_Sinus_rhythm.npy'\n",
    "path_afib = r'./Converted data/Atrial flutter/Atrial_Flutter.npy'\n",
    "path_afl = r'./Converted data/Atrial fibrillation/Atrial_Fibrillation.npy'\n",
    "path_code_afib = r'./Finalized data/Supraventricular ectopic beats/Code15%/AF_traced2.hdf5'\n",
    "\n",
    "# Saving paths\n",
    "path_save_norm = r'Finalized data/Normal sinus rhythm/'\n",
    "path_save_afib = r'Finalized data/Atrial fibrillation/'\n",
    "path_save_afl = r'Finalized data/Atrial flutter/'"
   ]
  },
  {
   "cell_type": "code",
   "execution_count": null,
   "metadata": {},
   "outputs": [],
   "source": [
    "norm_npy = np.load(path_norm, allow_pickle=True)\n",
    "afib_npy = np.load(path_afib, allow_pickle=True)\n",
    "afl_npy = np.load(path_afl, allow_pickle=True)\n",
    "with h5py.File(path_code_afib, 'r') as f:\n",
    "    afib_code = f['tracings'][:]\n",
    "    print(afib_code.shape)\n",
    "print(norm_npy.shape, afib_npy.shape, afl_npy.shape)"
   ]
  },
  {
   "cell_type": "code",
   "execution_count": null,
   "metadata": {},
   "outputs": [],
   "source": [
    "temp = tfm.normalize(tfm.calc_baseline(tfm.powerline(afib_code[0, :, 0])))\n",
    "plt.figure(figsize=(20, 5))\n",
    "plt.subplot(2, 1, 1)\n",
    "plt.plot(tfm.rms_transform2(afib_code[0]))\n",
    "plt.subplot(2, 1, 2)\n",
    "plt.plot(temp)\n",
    "plt.show()\n",
    "del temp"
   ]
  },
  {
   "cell_type": "code",
   "execution_count": null,
   "metadata": {},
   "outputs": [],
   "source": [
    "errors_Afib = [114, 334, 383, 850, 1297, 1389, 1767, 1861, 1869,\n",
    "                1911, 1945, 2082, 2240, 2804, 2822, 2857, 3043, 3078,\n",
    "                3427, 3557, 3583, 3584, 3627, 3778, 3901, 3974, 4341,\n",
    "                4492, 4504, 4511, 4544, 4959, 5009, 5236, 5322, 5734,\n",
    "                5753, 5936, 6162, 6286, 6287, 6319, 6550]\n"
   ]
  },
  {
   "cell_type": "code",
   "execution_count": null,
   "metadata": {},
   "outputs": [],
   "source": [
    "code_npy = []\n",
    "count = 0\n",
    "for i in afib_code:\n",
    "    if count in errors_Afib:\n",
    "            print(f'Error in {count}')\n",
    "            count += 1\n",
    "\n",
    "            continue\n",
    "    try:\n",
    "        temp = tfm.all_transform(i)\n",
    "    except Exception as e:\n",
    "        # temp = tfm.normalize(tfm.calc_baseline(tfm.powerline(tfm.rms_transform(temp))))\n",
    "        print(f'Error {e} in {count}')\n",
    "        errors_Afib.append(count)\n",
    "        print(errors_Afib)\n",
    "        count += 1\n",
    "        continue\n",
    "    code_npy.append(temp)\n",
    "    # print(f'Code {count} saved')\n",
    "    count += 1\n",
    "code_npy = np.array(code_npy)\n",
    "print(code_npy.shape, len(errors_Afib))"
   ]
  },
  {
   "cell_type": "code",
   "execution_count": null,
   "metadata": {},
   "outputs": [],
   "source": [
    "print(code_npy.shape, len(errors_Afib))"
   ]
  },
  {
   "cell_type": "code",
   "execution_count": null,
   "metadata": {},
   "outputs": [],
   "source": [
    "temp = tfm.normalize(tfm.calc_baseline(tfm.powerline(afib_code[0, :, 0])))\n",
    "plt.figure(figsize=(20, 5))\n",
    "plt.subplot(2, 1, 1)\n",
    "plt.plot(afib_code[8])\n",
    "plt.subplot(2, 1, 2)\n",
    "plt.plot(code_npy[8])\n",
    "plt.show()\n",
    "del temp"
   ]
  },
  {
   "cell_type": "code",
   "execution_count": null,
   "metadata": {},
   "outputs": [],
   "source": [
    "# afib_tot = np.concatenate((afib_npy, code_npy), axis=0)\n",
    "print(afib_npy[0].shape, code_npy.shape)\n",
    "# code_afib = np.array(code_npy, dtype='object')"
   ]
  },
  {
   "cell_type": "code",
   "execution_count": null,
   "metadata": {},
   "outputs": [],
   "source": [
    "cnt1 = 0\n",
    "cnt2 = 0\n",
    "cnt3 = 0\n",
    "for i in afl_npy:\n",
    "    if i.shape[0] != 5000:\n",
    "        cnt1 += 1\n",
    "for i in afib_npy:\n",
    "    if i.shape[0] != 5000:\n",
    "        cnt2 += 1\n",
    "for i in norm_npy:\n",
    "    if i.shape[0] != 5000:\n",
    "        cnt3 += 1\n",
    "print(int(afl_npy.shape[0]), cnt1)\n",
    "print(f'Normal: {norm_npy.shape[0]} - {cnt3} = {int(norm_npy.shape[0]) - cnt3} \\nAfib: {afib_npy.shape[0]} - {cnt2} = {int(afib_npy.shape[0]) - cnt2} \\nAFL: {afl_npy.shape[0]} - {cnt1} = {int(afl_npy.shape[0]) - cnt1} ')"
   ]
  },
  {
   "cell_type": "code",
   "execution_count": null,
   "metadata": {},
   "outputs": [],
   "source": [
    "norm_new = []\n",
    "afib_new = []\n",
    "afl_new = []\n",
    "afib_code_new = []\n",
    "\n",
    "for i in code_npy:\n",
    "    temp = signal.resample(i, 5000)\n",
    "    afib_code_new.append(temp)\n",
    "    del temp\n",
    "\n",
    "for i in norm_npy:\n",
    "    if i.shape[0] == 5000:\n",
    "        norm_new.append(i)\n",
    "for i in afib_npy:\n",
    "    if i.shape[0] == 5000:\n",
    "        afib_new.append(i)\n",
    "for i in afl_npy:\n",
    "    if i.shape[0] == 5000:\n",
    "        afl_new.append(i)\n",
    "print(len(norm_new), len(afib_new), len(afl_new))\n",
    "print(len(afib_code_new))\n",
    "\n",
    "\n",
    "afl_new = afl_new + afl_new + afl_new + afl_new + afl_new + afl_new\n",
    "# afib_new = afib_new + afib_code_new\n",
    "print(len(norm_new), len(afib_new), len(afl_new))\n",
    "print(len(afib_code_new))\n",
    "    "
   ]
  },
  {
   "cell_type": "code",
   "execution_count": null,
   "metadata": {},
   "outputs": [],
   "source": [
    "\n",
    "cnt1 = 0\n",
    "cnt2 = 0\n",
    "cnt3 = 0\n",
    "cnt4 = 0\n",
    "norm_new = np.array(norm_new)\n",
    "afib_new = np.array(afib_new)\n",
    "afl_new = np.array(afl_new)\n",
    "afib_code_new = np.array(afib_code_new)\n",
    "for i in afl_new:\n",
    "    if i.shape[0] != 5000:\n",
    "        cnt1 += 1\n",
    "for i in afib_new:\n",
    "    if i.shape[0] != 5000:\n",
    "        cnt2 += 1\n",
    "for i in norm_new:\n",
    "    if i.shape[0] != 5000:\n",
    "        cnt3 += 1\n",
    "for i in afib_code_new:\n",
    "    if i.shape[0] != 5000:\n",
    "        cnt4 += 1\n",
    "print(f'Normal: {norm_new.shape[0]} - {cnt3} = {int(norm_new.shape[0]) - cnt3}')\n",
    "print(f'Afib  :  {afib_new.shape[0]} - {cnt2} = {int(afib_new.shape[0]) - cnt2}')\n",
    "print(f'AFL   : {afl_new.shape[0]} - {cnt1} = {int(afl_new.shape[0]) - cnt1} ')\n",
    "print(f'Afib_code: {afib_code_new.shape[0]} - {cnt4} = {int(afib_code_new.shape[0]) - cnt4} ')\n",
    "del cnt1, cnt2, cnt3, cnt4"
   ]
  },
  {
   "cell_type": "code",
   "execution_count": null,
   "metadata": {},
   "outputs": [],
   "source": [
    "afib_concatenated = np.concatenate((afib_new, afib_code_new), axis=0)\n",
    "print(afib_concatenated.shape, norm_new.shape, afl_new.shape)\n",
    "# Shuffle all the data\n",
    "np.random.shuffle(norm_new)\n",
    "np.random.shuffle(afib_concatenated)\n",
    "np.random.shuffle(afl_new)\n"
   ]
  },
  {
   "cell_type": "code",
   "execution_count": null,
   "metadata": {},
   "outputs": [],
   "source": []
  },
  {
   "cell_type": "code",
   "execution_count": null,
   "metadata": {},
   "outputs": [],
   "source": [
    "np.save(path_save_norm + 'NORM', norm_new)\n",
    "np.save(path_save_afib + 'AFIB', afib_concatenated)\n",
    "np.save(path_save_afl + 'AFL', afl_new)\n"
   ]
  },
  {
   "cell_type": "code",
   "execution_count": null,
   "metadata": {},
   "outputs": [],
   "source": [
    "#resample code_afib from 400 to 500\n",
    "\n",
    "code_npy[0].shape\n",
    "resample_s = signal.resample(code_npy[0], 5000)\n",
    "plt.figure(figsize=(20, 5))\n",
    "plt.subplot(2, 1, 1)\n",
    "plt.plot(code_npy[0])\n",
    "plt.subplot(2, 1, 2)\n",
    "plt.plot(resample_s)\n",
    "plt.show()\n"
   ]
  },
  {
   "cell_type": "code",
   "execution_count": null,
   "metadata": {},
   "outputs": [],
   "source": [
    "afib_npy = np.array(afib_npy, dtype='object')\n",
    "print(type(afib_npy), type(code_npy))\n",
    "list_afib = list(afib_npy)\n",
    "list_code = list(code_npy)\n",
    "print(type(list_afib), type(list_code), len(list_afib), len(list_code))\n",
    "afib_tot = list_afib + list_code\n",
    "afl_npy = list(afl_npy)\n",
    "\n",
    "#increase the number of atrial flutter examples by multiplying by 6\n",
    "afl_tot = []\n",
    "for i in afl_npy:\n",
    "    for j in range(6):\n",
    "        afl_tot.append(i)\n",
    "\n",
    "print(len(afib_tot), len(afl_tot))\n",
    "afib_tot = np.array(afib_tot, dtype='object')\n",
    "print(afib_tot.shape)"
   ]
  },
  {
   "cell_type": "code",
   "execution_count": null,
   "metadata": {},
   "outputs": [],
   "source": [
    "print()"
   ]
  }
 ],
 "metadata": {
  "kernelspec": {
   "display_name": "Arrhythmia_env",
   "language": "python",
   "name": "python3"
  },
  "language_info": {
   "codemirror_mode": {
    "name": "ipython",
    "version": 3
   },
   "file_extension": ".py",
   "mimetype": "text/x-python",
   "name": "python",
   "nbconvert_exporter": "python",
   "pygments_lexer": "ipython3",
   "version": "3.10.5"
  },
  "orig_nbformat": 4
 },
 "nbformat": 4,
 "nbformat_minor": 2
}
