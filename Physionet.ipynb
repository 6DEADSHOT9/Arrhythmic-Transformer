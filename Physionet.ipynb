{
 "cells": [
  {
   "cell_type": "code",
   "execution_count": 1,
   "metadata": {},
   "outputs": [],
   "source": [
    "import numpy as np\n",
    "import pandas as pd\n",
    "import matplotlib.pyplot as plt\n",
    "import wfdb\n",
    "import os\n",
    "\n",
    "import h5py\n",
    "import gc"
   ]
  },
  {
   "cell_type": "code",
   "execution_count": 9,
   "metadata": {},
   "outputs": [],
   "source": [
    "\n",
    "snomed_ct_dict = {'Atrial fibrillation':164889003,'Atrial flutter':164890007,'Normal sinus rhythm':426783006}\n",
    "randompath = 'Data/The PhysioNetComputing in Cardiology Challenge 2021/physionet.org/files/challenge-2021/1.0.3/training/ningbo/g1/JS10647'\n",
    "\n",
    "path_dx = r'E:\\Arrythmia\\Data\\The PhysioNetComputing in Cardiology Challenge 2021\\physionet.org\\files\\challenge-2021\\1.0.3\\training\\dx_mapping_scored.csv'\n",
    "path_dx2 = r'E:\\Arrythmia\\Data\\The PhysioNetComputing in Cardiology Challenge 2021\\physionet.org\\files\\challenge-2021\\1.0.3\\training\\dx_mapping_unscored.csv'\n",
    "dx_map = pd.read_csv(path_dx)\n",
    "dx_map2 = pd.read_csv(path_dx2)"
   ]
  },
  {
   "cell_type": "code",
   "execution_count": 10,
   "metadata": {},
   "outputs": [
    {
     "data": {
      "text/plain": [
       "'Dx: 426177001,713427006,164934002,39732003'"
      ]
     },
     "execution_count": 10,
     "metadata": {},
     "output_type": "execute_result"
    }
   ],
   "source": [
    "\n",
    "# open wfdb header with function\n",
    "ecg = wfdb.io.rdheader(randompath)\n",
    "ecg.__dict__['comments'][2]\n"
   ]
  },
  {
   "cell_type": "code",
   "execution_count": 26,
   "metadata": {},
   "outputs": [
    {
     "name": "stdout",
     "output_type": "stream",
     "text": [
      "30 30\n",
      "103 103\n",
      "71    right atrial  high voltage\n",
      "Name: Dx, dtype: object\n",
      "133 ['atrial fibrillation', 'atrial flutter', 'bundle branch block', 'bradycardia', 'complete left bundle branch block', 'complete right bundle branch block', '1st degree av block', 'incomplete right bundle branch block', 'left axis deviation', 'left anterior fascicular block', 'left bundle branch block', 'low qrs voltages', 'nonspecific intraventricular conduction disorder', 'sinus rhythm', 'premature atrial contraction', 'pacing rhythm', 'poor R wave Progression', 'premature ventricular contractions', 'prolonged pr interval', 'prolonged qt interval', 'qwave abnormal', 'right axis deviation', 'right bundle branch block', 'sinus arrhythmia', 'sinus bradycardia', 'sinus tachycardia', 'supraventricular premature beats', 't wave abnormal', 't wave inversion', 'ventricular premature beats', 'accelerated atrial escape rhythm', 'abnormal QRS', 'atrial escape beat', 'accelerated idioventricular rhythm', 'accelerated junctional rhythm', 'suspect arm ecg leads reversed', 'acute myocardial infarction', 'acute myocardial ischemia', 'anterior ischemia', 'anterior myocardial infarction', 'atrial bigeminy', 'atrial fibrillation and flutter', 'atrial hypertrophy', 'atrial pacing pattern', 'atrial rhythm', 'atrial tachycardia', 'av block', 'atrioventricular dissociation', 'atrioventricular junctional rhythm', 'atrioventricular  node reentrant tachycardia', 'atrioventricular reentrant tachycardia', 'blocked premature atrial contraction', 'brugada', 'brady tachy syndrome', 'chronic atrial fibrillation', 'countercolockwise rotation', 'clockwise or counterclockwise vectorcardiographic loop', 'cardiac dysrhythmia', 'complete heart block', 'congenital incomplete atrioventricular heart block', 'coronary heart disease', 'chronic myocardial ischemia', 'clockwise rotation', 'diffuse intraventricular block', 'early repolarization', 'fusion beats', 'fqrs wave', 'heart failure', 'heart valve disorder', 'high t-voltage', 'indeterminate cardiac axis', '2nd degree av block', 'mobitz type II atrioventricular block', 'inferior ischaemia', 'incomplete left bundle branch block', 'inferior ST segment depression', 'idioventricular rhythm', 'junctional escape', 'junctional premature complex', 'junctional tachycardia', 'left atrial abnormality', 'left atrial enlargement', 'left atrial hypertrophy', 'lateral ischaemia', 'left posterior fascicular block', 'left ventricular hypertrophy', 'left ventricular high voltage', 'left ventricular strain', 'myocardial infarction', 'myocardial ischemia', 'mobitz type i wenckebach atrioventricular block', 'nonspecific st t abnormality', 'old myocardial infarction', 'paroxysmal atrial fibrillation', 'prolonged P wave', 'paroxysmal supraventricular tachycardia', 'paroxysmal ventricular tachycardia', 'p wave change', 'right atrial abnormality', 'r wave abnormal', 'right atrial hypertrophy', 'right atrial  high voltage', 'rapid atrial fibrillation', 'right ventricular hypertrophy', 'sinus atrium to atrial wandering rhythm', 'sinoatrial block', 'sinus arrest', 'sinus node dysfunction', 'shortened pr interval', 'decreased qt interval', 's t changes', 'st depression', 'st elevation', 'st interval abnormal', 'supraventricular bigeminy', 'supraventricular tachycardia', 'transient ischemic attack', 'tall p wave', 'u wave abnormal', 'ventricular bigeminy', 'ventricular ectopics', 'ventricular escape beat', 'ventricular escape rhythm', 'ventricular fibrillation', 'ventricular flutter', 'ventricular hypertrophy', 'ventricular pre excitation', 'ventricular pacing pattern', 'paired ventricular premature complexes', 'ventricular tachycardia', 'ventricular trigeminy', 'wandering atrial pacemaker', 'wolff parkinson white pattern']\n"
     ]
    }
   ],
   "source": [
    "print(dx_map['SNOMEDCTCode'].nunique(), dx_map['SNOMEDCTCode'].count())\n",
    "print(dx_map2['SNOMEDCTCode'].nunique(), dx_map2['SNOMEDCTCode'].count())\n",
    "\n",
    "dx_map2.head()\n",
    "print(dx_map2[dx_map2['SNOMEDCTCode'] == 67751000119106]['Dx'])\n",
    "ls = dx_map['Dx'].tolist() + dx_map2['Dx'].tolist()\n",
    "print(len(ls),ls)"
   ]
  },
  {
   "cell_type": "code",
   "execution_count": 32,
   "metadata": {},
   "outputs": [
    {
     "name": "stdout",
     "output_type": "stream",
     "text": [
      "133 ['1st degree av block\\n', '2nd degree av block\\n', 'abnormal QRS\\n', 'accelerated atrial escape rhythm\\n', 'accelerated idioventricular rhythm\\n', 'accelerated junctional rhythm\\n', 'acute myocardial infarction\\n', 'acute myocardial ischemia\\n', 'anterior ischemia\\n', 'anterior myocardial infarction\\n', 'atrial bigeminy\\n', 'atrial escape beat\\n', 'atrial fibrillation\\n', 'atrial fibrillation and flutter\\n', 'atrial flutter\\n', 'atrial hypertrophy\\n', 'atrial pacing pattern\\n', 'atrial rhythm\\n', 'atrial tachycardia\\n', 'atrioventricular  node reentrant tachycardia\\n', 'atrioventricular dissociation\\n', 'atrioventricular junctional rhythm\\n', 'atrioventricular reentrant tachycardia\\n', 'av block\\n', 'blocked premature atrial contraction\\n', 'brady tachy syndrome\\n', 'bradycardia\\n', 'brugada\\n', 'bundle branch block\\n', 'cardiac dysrhythmia\\n', 'chronic atrial fibrillation\\n', 'chronic myocardial ischemia\\n', 'clockwise or counterclockwise vectorcardiographic loop\\n', 'clockwise rotation\\n', 'complete heart block\\n', 'complete left bundle branch block\\n', 'complete right bundle branch block\\n', 'congenital incomplete atrioventricular heart block\\n', 'coronary heart disease\\n', 'countercolockwise rotation\\n', 'decreased qt interval\\n', 'diffuse intraventricular block\\n', 'early repolarization\\n', 'fqrs wave\\n', 'fusion beats\\n', 'heart failure\\n', 'heart valve disorder\\n', 'high t-voltage\\n', 'idioventricular rhythm\\n', 'incomplete left bundle branch block\\n', 'incomplete right bundle branch block\\n', 'indeterminate cardiac axis\\n', 'inferior ST segment depression\\n', 'inferior ischaemia\\n', 'junctional escape\\n', 'junctional premature complex\\n', 'junctional tachycardia\\n', 'lateral ischaemia\\n', 'left anterior fascicular block\\n', 'left atrial abnormality\\n', 'left atrial enlargement\\n', 'left atrial hypertrophy\\n', 'left axis deviation\\n', 'left bundle branch block\\n', 'left posterior fascicular block\\n', 'left ventricular high voltage\\n', 'left ventricular hypertrophy\\n', 'left ventricular strain\\n', 'low qrs voltages\\n', 'mobitz type II atrioventricular block\\n', 'mobitz type i wenckebach atrioventricular block\\n', 'myocardial infarction\\n', 'myocardial ischemia\\n', 'nonspecific intraventricular conduction disorder\\n', 'nonspecific st t abnormality\\n', 'old myocardial infarction\\n', 'p wave change\\n', 'pacing rhythm\\n', 'paired ventricular premature complexes\\n', 'paroxysmal atrial fibrillation\\n', 'paroxysmal supraventricular tachycardia\\n', 'paroxysmal ventricular tachycardia\\n', 'poor R wave Progression\\n', 'premature atrial contraction\\n', 'premature ventricular contractions\\n', 'prolonged P wave\\n', 'prolonged pr interval\\n', 'prolonged qt interval\\n', 'qwave abnormal\\n', 'r wave abnormal\\n', 'rapid atrial fibrillation\\n', 'right atrial  high voltage\\n', 'right atrial abnormality\\n', 'right atrial hypertrophy\\n', 'right axis deviation\\n', 'right bundle branch block\\n', 'right ventricular hypertrophy\\n', 's t changes\\n', 'shortened pr interval\\n', 'sinoatrial block\\n', 'sinus arrest\\n', 'sinus arrhythmia\\n', 'sinus atrium to atrial wandering rhythm\\n', 'sinus bradycardia\\n', 'sinus node dysfunction\\n', 'sinus rhythm\\n', 'sinus tachycardia\\n', 'st depression\\n', 'st elevation\\n', 'st interval abnormal\\n', 'supraventricular bigeminy\\n', 'supraventricular premature beats\\n', 'supraventricular tachycardia\\n', 'suspect arm ecg leads reversed\\n', 't wave abnormal\\n', 't wave inversion\\n', 'tall p wave\\n', 'transient ischemic attack\\n', 'u wave abnormal\\n', 'ventricular bigeminy\\n', 'ventricular ectopics\\n', 'ventricular escape beat\\n', 'ventricular escape rhythm\\n', 'ventricular fibrillation\\n', 'ventricular flutter\\n', 'ventricular hypertrophy\\n', 'ventricular pacing pattern\\n', 'ventricular pre excitation\\n', 'ventricular premature beats\\n', 'ventricular tachycardia\\n', 'ventricular trigeminy\\n', 'wandering atrial pacemaker\\n', 'wolff parkinson white pattern\\n']\n"
     ]
    }
   ],
   "source": [
    "ks = sorted(ls)\n",
    "print(len(ks),ks)\n",
    "with open('Dx.txt', 'w') as f:\n",
    "    for item in ks:\n",
    "        f.writelines(\"%s\" % item)"
   ]
  }
 ],
 "metadata": {
  "kernelspec": {
   "display_name": "Arrhythmia_env",
   "language": "python",
   "name": "python3"
  },
  "language_info": {
   "codemirror_mode": {
    "name": "ipython",
    "version": 3
   },
   "file_extension": ".py",
   "mimetype": "text/x-python",
   "name": "python",
   "nbconvert_exporter": "python",
   "pygments_lexer": "ipython3",
   "version": "3.10.5"
  },
  "orig_nbformat": 4
 },
 "nbformat": 4,
 "nbformat_minor": 2
}
