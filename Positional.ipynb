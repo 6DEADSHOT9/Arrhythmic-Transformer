{
 "cells": [
  {
   "cell_type": "code",
   "execution_count": 1,
   "metadata": {},
   "outputs": [],
   "source": [
    "import tensorflow as tf\n",
    "import numpy as np"
   ]
  },
  {
   "cell_type": "code",
   "execution_count": 2,
   "metadata": {},
   "outputs": [
    {
     "name": "stdout",
     "output_type": "stream",
     "text": [
      "loaded\n",
      "listed\n",
      "ragged\n"
     ]
    }
   ],
   "source": [
    "NORM = np.load('Heartbeats/Normal/N_beats.npy',allow_pickle = True)\n",
    "ARRH = np.load('Heartbeats/Arrhythmia/A_beats.npy',allow_pickle = True)\n",
    "\n",
    "print('loaded')\n",
    "NORM = list(NORM)\n",
    "ARRH = list(ARRH)\n",
    "print('listed')\n",
    "\n",
    "NORM = tf.ragged.constant(NORM)\n",
    "ARRH = tf.ragged.constant(ARRH)\n",
    "print('ragged')"
   ]
  },
  {
   "cell_type": "code",
   "execution_count": 3,
   "metadata": {},
   "outputs": [
    {
     "name": "stdout",
     "output_type": "stream",
     "text": [
      "(130665,) (163323,) 0.0 1.0 <class 'numpy.ndarray'> <class 'numpy.ndarray'>\n"
     ]
    }
   ],
   "source": [
    "arrh_labels = np.array(tf.cast(np.array(np.ones(int(ARRH.shape[0]))),tf.float16))\n",
    "norm_labels = np.array(tf.cast(np.array(np.zeros(int(NORM.shape[0]))),tf.float16))\n",
    "\n",
    "print(norm_labels.shape,arrh_labels.shape,norm_labels[0],arrh_labels[0],type(norm_labels.astype(dtype = 'int32')),type(arrh_labels))"
   ]
  },
  {
   "cell_type": "code",
   "execution_count": 4,
   "metadata": {},
   "outputs": [],
   "source": [
    "def cast16(beat,label):\n",
    "    beat = tf.cast(beat,tf.float16)\n",
    "    return beat,label\n",
    "\n",
    "def one_hot(beat, d_model):\n",
    "    if type(d_model) != int:\n",
    "        raise TypeError(\"d_model must be an int type\")\n",
    "    encodings = []\n",
    "    beat = tf.cast((tf.cast(beat,tf.float16)*int(d_model)),tf.int64)\n",
    "    \n",
    "    # print(beat.dtype) # troubleshooting\n",
    "    \n",
    "    for i in beat:\n",
    "#         i = tf.round(i)\n",
    "        i = tf.cast(i,tf.int32)\n",
    "        # print(i,i.dtype)\n",
    "        if i == 0:\n",
    "            encodings.append(list(np.zeros(d_model)))\n",
    "        else:\n",
    "            encodings.append(list(np.zeros(i-1)) + list(np.ones(1)) + list(np.zeros(d_model-i)))\n",
    "    return encodings\n",
    "\n",
    "def input_embeddings(encodings,max_sequence_length,d_model):\n",
    "    \n",
    "    temp = int(max_sequence_length) - int(len(list(encodings)))\n",
    "    for i in range(temp):\n",
    "        encodings.append(list(np.zeros(int(d_model))))\n",
    "    return encodings"
   ]
  },
  {
   "cell_type": "code",
   "execution_count": 5,
   "metadata": {},
   "outputs": [
    {
     "name": "stdout",
     "output_type": "stream",
     "text": [
      "(293988, None) (293988,)\n",
      "<dtype: 'float16'> <dtype: 'float16'>\n"
     ]
    }
   ],
   "source": [
    "all_data = tf.concat([NORM,ARRH],axis = 0)\n",
    "all_labels = tf.concat([norm_labels,arrh_labels],axis = 0)\n",
    "\n",
    "print(all_data.shape,all_labels.shape)\n",
    "print(tf.cast(all_data,tf.float16).dtype,all_labels.dtype)\n",
    "# print(type(all_data.to_list()),type([all_labels]))"
   ]
  },
  {
   "cell_type": "code",
   "execution_count": 18,
   "metadata": {},
   "outputs": [
    {
     "name": "stdout",
     "output_type": "stream",
     "text": [
      "int8\n"
     ]
    },
    {
     "ename": "AttributeError",
     "evalue": "module 'numpy' has no attribute 'int4'",
     "output_type": "error",
     "traceback": [
      "\u001b[1;31m---------------------------------------------------------------------------\u001b[0m",
      "\u001b[1;31mAttributeError\u001b[0m                            Traceback (most recent call last)",
      "Cell \u001b[1;32mIn[18], line 2\u001b[0m\n\u001b[0;32m      1\u001b[0m \u001b[39mprint\u001b[39m(np\u001b[39m.\u001b[39marray(tf\u001b[39m.\u001b[39mcast(input_embeddings(one_hot(all_data[\u001b[39m0\u001b[39m],\u001b[39m512\u001b[39m),\u001b[39m875\u001b[39m,\u001b[39m512\u001b[39m),dtype\u001b[39m=\u001b[39m\u001b[39m'\u001b[39m\u001b[39mfloat16\u001b[39m\u001b[39m'\u001b[39m))\u001b[39m.\u001b[39mastype(dtype \u001b[39m=\u001b[39m np\u001b[39m.\u001b[39mint8)\u001b[39m.\u001b[39mdtype)\n\u001b[1;32m----> 2\u001b[0m \u001b[39mprint\u001b[39m([x \u001b[39mfor\u001b[39;00m x \u001b[39min\u001b[39;00m np\u001b[39m.\u001b[39marray(tf\u001b[39m.\u001b[39mcast(input_embeddings(one_hot(all_data[\u001b[39m0\u001b[39m],\u001b[39m512\u001b[39m),\u001b[39m875\u001b[39m,\u001b[39m512\u001b[39m),dtype\u001b[39m=\u001b[39m\u001b[39m'\u001b[39m\u001b[39mfloat16\u001b[39m\u001b[39m'\u001b[39m))\u001b[39m.\u001b[39mastype(dtype \u001b[39m=\u001b[39m np\u001b[39m.\u001b[39;49mint4)])\n",
      "File \u001b[1;32me:\\Arrythmia\\Arrhythmia_env\\lib\\site-packages\\numpy\\__init__.py:311\u001b[0m, in \u001b[0;36m__getattr__\u001b[1;34m(attr)\u001b[0m\n\u001b[0;32m    308\u001b[0m     \u001b[39mfrom\u001b[39;00m \u001b[39m.\u001b[39;00m\u001b[39mtesting\u001b[39;00m \u001b[39mimport\u001b[39;00m Tester\n\u001b[0;32m    309\u001b[0m     \u001b[39mreturn\u001b[39;00m Tester\n\u001b[1;32m--> 311\u001b[0m \u001b[39mraise\u001b[39;00m \u001b[39mAttributeError\u001b[39;00m(\u001b[39m\"\u001b[39m\u001b[39mmodule \u001b[39m\u001b[39m{!r}\u001b[39;00m\u001b[39m has no attribute \u001b[39m\u001b[39m\"\u001b[39m\n\u001b[0;32m    312\u001b[0m                      \u001b[39m\"\u001b[39m\u001b[39m{!r}\u001b[39;00m\u001b[39m\"\u001b[39m\u001b[39m.\u001b[39mformat(\u001b[39m__name__\u001b[39m, attr))\n",
      "\u001b[1;31mAttributeError\u001b[0m: module 'numpy' has no attribute 'int4'"
     ]
    }
   ],
   "source": [
    "print(np.array(tf.cast(input_embeddings(one_hot(all_data[0],512),875,512),dtype='float16')).astype(dtype = np.int8).dtype)\n",
    "print([x for x in np.array(tf.cast(input_embeddings(one_hot(all_data[0],512),875,512),dtype='float16')).astype(dtype = np.int4)])"
   ]
  },
  {
   "cell_type": "code",
   "execution_count": 7,
   "metadata": {},
   "outputs": [],
   "source": [
    "# data = all_data.to_list()\n",
    "# labels = [all_labels]\n",
    "\n",
    "# print(type(data),type(labels))"
   ]
  },
  {
   "cell_type": "code",
   "execution_count": 8,
   "metadata": {},
   "outputs": [
    {
     "data": {
      "text/plain": [
       "1.0"
      ]
     },
     "execution_count": 8,
     "metadata": {},
     "output_type": "execute_result"
    }
   ],
   "source": [
    "np.array(tf.cast(input_embeddings(one_hot(all_data[0],512),875,512),dtype='float16')).max()"
   ]
  },
  {
   "cell_type": "code",
   "execution_count": 9,
   "metadata": {},
   "outputs": [],
   "source": [
    "# data = []\n",
    "# labels = []\n",
    "\n",
    "# for i in all_data:\n",
    "\n",
    "#     temp = np.array(tf.cast(input_embeddings(one_hot(i,512),875,512),dtype='float16'))\n",
    "#     data.append(temp)\n",
    "\n",
    "# print('data done')\n",
    "\n",
    "# labels = np.array(all_labels).tolist()\n"
   ]
  },
  {
   "cell_type": "code",
   "execution_count": 10,
   "metadata": {},
   "outputs": [],
   "source": [
    "def positional_encoding(length, depth):\n",
    "#     depth = depth/2\n",
    "\n",
    "    positions = np.arange(length)[:, np.newaxis]     # (seq, 1)\n",
    "    depths = np.arange(depth)[np.newaxis, :]/depth   # (1, depth)\n",
    "\n",
    "    angle_rates = 1 / (500**depths)         # (1, depth)\n",
    "    angle_rads = positions * angle_rates      # (pos, depth)\n",
    "\n",
    "#     pos_encoding = np.concatenate([np.sin(angle_rads), np.cos(angle_rads)],axis=-1) \n",
    "    pos_encoding = np.sin(angle_rads)\n",
    "\n",
    "    return tf.cast(pos_encoding, dtype=tf.float16)"
   ]
  }
 ],
 "metadata": {
  "kernelspec": {
   "display_name": "Arrhythmia_env",
   "language": "python",
   "name": "python3"
  },
  "language_info": {
   "codemirror_mode": {
    "name": "ipython",
    "version": 3
   },
   "file_extension": ".py",
   "mimetype": "text/x-python",
   "name": "python",
   "nbconvert_exporter": "python",
   "pygments_lexer": "ipython3",
   "version": "3.10.5"
  },
  "orig_nbformat": 4
 },
 "nbformat": 4,
 "nbformat_minor": 2
}
